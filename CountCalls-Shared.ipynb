{
 "cells": [
  {
   "cell_type": "markdown",
   "metadata": {},
   "source": [
    "Notebook flow\n",
    "\n",
    "1. import libraries\n",
    "2. define name variations that might be in sheet and map to standard last names \n",
    "3. create counting function that will: \n",
    " - sum service weeks - name in any of these columns: \n",
    "     Floor A\n",
    "     Floor B\n",
    "     ICU low\n",
    "     ICU high\n",
    "     Burn\n",
    "     \n",
    "  - sum night calls total which means name shows up in column Call\n",
    "      \n",
    "  - sum weekend calls - name is in column Call where day of week is Fri, Sat or Sun\n",
    "  \n",
    "  - sums ICU weekends (Sat/Sun) where 2 days counts as 1 weekend \n",
    "  \n",
    "  - comibine the above into a CallCounts dataframe\n",
    "  \n",
    "4. create a for loop that allows looping and summing over multiple months, with appropriate file output names \n"
   ]
  },
  {
   "cell_type": "code",
   "execution_count": null,
   "metadata": {},
   "outputs": [],
   "source": [
    "# Import libraries\n",
    "import numpy as np\n",
    "import pandas as pd\n"
   ]
  },
  {
   "cell_type": "markdown",
   "metadata": {},
   "source": [
    "### Just below, change the MonthYr names to match the csv file inputs for the months of schedule you want examine\n",
    "\n",
    "Format is 'MonthnameYYYY'"
   ]
  },
  {
   "cell_type": "code",
   "execution_count": null,
   "metadata": {},
   "outputs": [],
   "source": [
    "MonthYrs = ['April2020', 'May2020']"
   ]
  },
  {
   "cell_type": "code",
   "execution_count": null,
   "metadata": {},
   "outputs": [],
   "source": [
    "#define name perumatations that are likely to appear in schedule sheet\n",
    "# Map all to just last name\n",
    "# Fictional names used here ... \n",
    "\n",
    "\n",
    "names = { \n",
    "    'HP': 'Potter',\n",
    "    'Harry': 'Potter',\n",
    "    \n",
    "    'HG':'Granger',\n",
    "    'Hermione':'Granger',\n",
    "    \n",
    "    'RW':'Weasley',\n",
    "    'Ron':'Weasley',\n",
    "    \n",
    "    'AD':'Dumbledore',\n",
    "    'Albus':'Dumbledore',\n",
    "    \n",
    "    'RH':'Hagrid',\n",
    "    'Rubius':  'Hagrid',\n",
    "    \n",
    "    'MG':'McGonagall',\n",
    "    'Minerva': 'McGonagall',\n",
    "    \n",
    "    'SS' : 'Snape',\n",
    "    'Severus': 'Snape',\n",
    " "
   ]
  },
  {
   "cell_type": "code",
   "execution_count": null,
   "metadata": {},
   "outputs": [],
   "source": [
    "#Define what counts as weekends\n",
    "\n",
    "wknd_srvc = ['Fri', 'Sat','Sun']  # Fri night, Sat, Sun count as wknds call counts    \n",
    "wknd_icu = ['Sat', 'Sun']   #Sat/Sun only count as wknds for ICU (day shift only)"
   ]
  },
  {
   "cell_type": "markdown",
   "metadata": {},
   "source": [
    "Define function that counts calls one month at a time:"
   ]
  },
  {
   "cell_type": "code",
   "execution_count": null,
   "metadata": {},
   "outputs": [],
   "source": [
    "\n",
    "def count_calls(MonthYr):\n",
    "    #Take input \"MonthYr\" eg \"April2020\" and read in csv file of that name in same directory\n",
    "    path = '{}.csv'.format(MonthYr)\n",
    "    sched = pd.read_csv(path)\n",
    "    \n",
    "    #replace name abbreviations/variations with last names, using mappings defined above \n",
    "    sched.replace(names,inplace=True)\n",
    "\n",
    "    #Count times name shows up in call column, this includes weekends \n",
    "    callnights = sched.Call.value_counts()  \n",
    "\n",
    "    #Count times name shows up in call column on weekends only (incl Fri, Sat and Sun nights; Sat Sun assumed 24hr)\n",
    "    callwknds = sched.Call[sched.Day.isin(wknd_srvc)].value_counts()\n",
    "\n",
    "    #Count days name shows up in A or B service column (add other floor services as needed)\n",
    "    #Calc number service weeks -> 5 days = 1 week \n",
    "    A = sched.Floor_A.value_counts()\n",
    "    B = sched.Floor_B.value_counts()\n",
    "    SrvcDays= A.add(B, fill_value=0)\n",
    "    SrvcWks = SrvcDays/5\n",
    "    \n",
    "    #Count days name shows up in ICU_low or ICU_high service column (could be different ICUs covered as well)\n",
    "    #Calc number ICU weeks -> 5 days = 1 week \n",
    "    ICU_low = sched.ICU_low.value_counts()\n",
    "    ICU_high = sched.ICU_high.value_counts()\n",
    "    ICUdays= ICU_low.add(ICU_high, fill_value=0)\n",
    "    ICUwks = SrvcDays/5\n",
    "\n",
    "    #Count weekends in ICU -> 2 days = 1 ICU weekend\n",
    "    wknd_ICU = (sched.ICU_high[sched.Day.isin(wknd_icu)].value_counts())/2\n",
    "\n",
    "    #Count days name shows up in Burn service column\n",
    "    #Calc number burn weeks -> 5 days = 1 week\n",
    "    BurnDays = sched.Burn[~sched.Day.isin(wknd_icu)].value_counts()\n",
    "    BurnWks=BurnDays/5\n",
    "\n",
    "    #Sum the above across providers to create the columns for the CallCounts df\n",
    "    CallCounts = pd.concat([callnights,\n",
    "                                callwknds,\n",
    "                                wknd_ICU,\n",
    "                                SrvcWks,\n",
    "                                ICUwks,\n",
    "                                BurnWks],\n",
    "                               axis = 1)\n",
    "\n",
    "    #rename the columns logically (follow order as above)\n",
    "    CallCounts.columns = ['NightCalls (incl wknds)',\n",
    "                           'WkndCalls',\n",
    "                           'Wknd_ICU',\n",
    "                           'SrvcWks',\n",
    "                           'ICUwks',\n",
    "                           'BurnWks']\n",
    "\n",
    "    #replace NaNs with 0\n",
    "    CallCounts.replace(np.NaN, 0, inplace=True)\n",
    "\n",
    "    #Sum the burn, ICU and service weeks for a total service weeks column\n",
    "    CallCounts['TotalSrvcWks']= (CallCounts.SrvcWks+\n",
    "                           CallCounts.ICUwks + \n",
    "                           CallCounts.BurnWks)\n",
    "\n",
    "    #sort alphabetically         \n",
    "    CallCounts.sort_index(axis=0, inplace = True)\n",
    "    CallCounts\n",
    "\n",
    "    #output to excel with correct month-date filename\n",
    "    CallCounts.to_excel('{}_CallCounts.xlsx'.format(MonthYr))\n",
    "    \n",
    "    return CallCounts"
   ]
  },
  {
   "cell_type": "code",
   "execution_count": null,
   "metadata": {},
   "outputs": [],
   "source": [
    "#this will use the set lsit of MonthYrs from start of notebook\n",
    "\n",
    "#set the initial counting df equal to the count_calls function for the first month ('MonthYrs[0]')\n",
    "\n",
    "initial = count_calls(MonthYrs[0])\n",
    "\n",
    "#then loop over remaining months in the list, couting calls, outputting the df to excel, and\n",
    "# adding each successive iteration to the 'Total' df\n",
    "# when loop complete, output the 'Total' df named for MonthYrs that it spans\n",
    "# and display the total call df \n",
    "\n",
    "for m in MonthYrs[1:]:\n",
    "    Total = initial + count_calls(m)\n",
    "\n",
    "Total.to_excel('Total{}-{}_CallCounts.xlsx'.format(MonthYrs[0],MonthYrs[-1]))\n",
    "Total"
   ]
  },
  {
   "cell_type": "markdown",
   "metadata": {},
   "source": [
    "Done!"
   ]
  }
 ],
 "metadata": {
  "kernelspec": {
   "display_name": "Python 3",
   "language": "python",
   "name": "python3"
  },
  "language_info": {
   "codemirror_mode": {
    "name": "ipython",
    "version": 3
   },
   "file_extension": ".py",
   "mimetype": "text/x-python",
   "name": "python",
   "nbconvert_exporter": "python",
   "pygments_lexer": "ipython3",
   "version": "3.6.8"
  }
 },
 "nbformat": 4,
 "nbformat_minor": 2
}
